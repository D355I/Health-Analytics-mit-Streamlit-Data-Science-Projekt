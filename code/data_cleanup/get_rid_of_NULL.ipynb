{
 "cells": [
  {
   "cell_type": "markdown",
   "metadata": {},
   "source": [
    "Diese Datei dient zur Datenbereinigung von NULL Werten oder Placeholder in den Excel-Dateien"
   ]
  },
  {
   "cell_type": "markdown",
   "metadata": {},
   "source": [
    "Schritt 1: Die gebrauchten Abhängigkeiten laden"
   ]
  },
  {
   "cell_type": "code",
   "execution_count": 236,
   "metadata": {},
   "outputs": [],
   "source": [
    "import numpy as np\n",
    "import pandas as pd\n",
    "import matplotlib.pyplot as plt\n",
    "from tkinter.filedialog import askopenfilename\n",
    "from tkinter.messagebox import Message\n",
    "import seaborn as sns"
   ]
  },
  {
   "cell_type": "markdown",
   "metadata": {},
   "source": [
    "Schritt 2: Die Dateien laden"
   ]
  },
  {
   "cell_type": "code",
   "execution_count": 237,
   "metadata": {},
   "outputs": [],
   "source": [
    "df = pd.read_excel(askopenfilename())"
   ]
  },
  {
   "cell_type": "markdown",
   "metadata": {},
   "source": [
    "Schritt 3: Informationen über die geladene Datei anzeigen: "
   ]
  },
  {
   "cell_type": "code",
   "execution_count": 238,
   "metadata": {},
   "outputs": [
    {
     "name": "stdout",
     "output_type": "stream",
     "text": [
      "  datum       Abteilung                                        Krankheiten  \\\n",
      "0  2018  Innere Medizin    Bestimmte infektiöse und parasitäre Krankheiten   \n",
      "1   NaN             NaN                             Bösartige Neubildungen   \n",
      "2   NaN             NaN                                Übrige Neubildungen   \n",
      "3   NaN             NaN                             Krankheiten des Blutes   \n",
      "4   NaN             NaN  Endokrine, Ernährungs- und Stoffwechselkrankhe...   \n",
      "5   NaN             NaN                 Psychische und Verhaltensstörungen   \n",
      "6   NaN             NaN                      Krankheiten des Nervensystems   \n",
      "7   NaN             NaN  Krankheiten des Auges und der Augenanhangsgebilde   \n",
      "8   NaN             NaN     Krankheiten des Ohres und des Warzenfortsatzes   \n",
      "9   NaN             NaN                   Krankheiten des Kreislaufsystems   \n",
      "\n",
      "  unter 1 Jahr 1-5 jahre 5- 10 jahre 10-15 jahre 15-18 jahre 18-20 jahre  \\\n",
      "0          147       309         171         143         679        1944   \n",
      "1            3         7           1          12          28         302   \n",
      "2            2         2           -           7           8          44   \n",
      "3            1         5           6          11          20         145   \n",
      "4            9        15          34         218         422         937   \n",
      "5            6        10          10         114        1665        3772   \n",
      "6            6        25          29          73         210         501   \n",
      "7            2         3           -           2           3           7   \n",
      "8            5         7           6           5          11          25   \n",
      "9           29        26          13          93         304         931   \n",
      "\n",
      "  20-25 jahre  ... Insgesamt 55-60 Insgesamt 60-65 Insgesamt 65-70  \\\n",
      "0        5125  ...           18493           20240           24413   \n",
      "1         844  ...           34833           45026           53659   \n",
      "2         128  ...            6894            8321           10078   \n",
      "3         378  ...            3971            5021            6768   \n",
      "4        2028  ...           16181           17583           20997   \n",
      "5        6695  ...           15201           10637            7072   \n",
      "6        1291  ...           13918           13281           12671   \n",
      "7          35  ...             255             256             277   \n",
      "8          73  ...            2110            2106            2064   \n",
      "9        2576  ...           97103          117258          146168   \n",
      "\n",
      "  Insgesamt 70-75 Insgesamt 75-80 Insgesamt 80-85 Insgesamt 85-90  \\\n",
      "0           26131           44024           46556           32195   \n",
      "1           50392           63000           44175           18932   \n",
      "2           10228           14079           11028            5019   \n",
      "3            7539           13099           14831           10502   \n",
      "4           22220           40700           49930           40154   \n",
      "5            5214            6638            5818            3716   \n",
      "6           11557           16385           13974            7185   \n",
      "7             267             374             356             164   \n",
      "8            2071            2826            2449            1109   \n",
      "9          155432          248783          241363          149762   \n",
      "\n",
      "  Insgesamt 90-95 Insgesamt 95 und mehr Insgesamt 35-402  \n",
      "0           15915                  3550         313459.0  \n",
      "1            5360                   863         362378.0  \n",
      "2            1560                   269          77759.0  \n",
      "3            5179                  1235          81924.0  \n",
      "4           21920                  5554         283904.0  \n",
      "5            1580                   331         150252.0  \n",
      "6            2797                   518         134463.0  \n",
      "7              67                     6           2855.0  \n",
      "8             345                    55          20470.0  \n",
      "9           66918                 14328        1397997.0  \n",
      "\n",
      "[10 rows x 71 columns]\n"
     ]
    }
   ],
   "source": [
    "print(df.head(10))"
   ]
  },
  {
   "cell_type": "code",
   "execution_count": 239,
   "metadata": {},
   "outputs": [
    {
     "name": "stdout",
     "output_type": "stream",
     "text": [
      "<bound method DataFrame.info of                datum                 Abteilung  \\\n",
      "0               2018            Innere Medizin   \n",
      "1                NaN                       NaN   \n",
      "2                NaN                       NaN   \n",
      "3                NaN                       NaN   \n",
      "4                NaN                       NaN   \n",
      "...              ...                       ...   \n",
      "4840             NaN                       NaN   \n",
      "4841             NaN                       NaN   \n",
      "4842             NaN  Unbekannte Fachabteilung   \n",
      "4843             NaN                       NaN   \n",
      "4844  ______________                       NaN   \n",
      "\n",
      "                                            Krankheiten unter 1 Jahr  \\\n",
      "0       Bestimmte infektiöse und parasitäre Krankheiten          147   \n",
      "1                                Bösartige Neubildungen            3   \n",
      "2                                   Übrige Neubildungen            2   \n",
      "3                                Krankheiten des Blutes            1   \n",
      "4     Endokrine, Ernährungs- und Stoffwechselkrankhe...            9   \n",
      "...                                                 ...          ...   \n",
      "4840                                          unbekannt            -   \n",
      "4841                                          Insgesamt           36   \n",
      "4842                 Psychische und Verhaltensstörungen            -   \n",
      "4843                                          Insgesamt            -   \n",
      "4844                                                NaN          NaN   \n",
      "\n",
      "     1-5 jahre 5- 10 jahre 10-15 jahre 15-18 jahre 18-20 jahre 20-25 jahre  \\\n",
      "0          309         171         143         679        1944        5125   \n",
      "1            7           1          12          28         302         844   \n",
      "2            2           -           7           8          44         128   \n",
      "3            5           6          11          20         145         378   \n",
      "4           15          34         218         422         937        2028   \n",
      "...        ...         ...         ...         ...         ...         ...   \n",
      "4840         -           -           1           -           -         NaN   \n",
      "4841       113         172         233         322         498         NaN   \n",
      "4842         -           -           -           -           -         NaN   \n",
      "4843         -           -           -           -           -         NaN   \n",
      "4844       NaN         NaN         NaN         NaN         NaN         NaN   \n",
      "\n",
      "      ... Insgesamt 55-60 Insgesamt 60-65 Insgesamt 65-70 Insgesamt 70-75  \\\n",
      "0     ...           18493           20240           24413           26131   \n",
      "1     ...           34833           45026           53659           50392   \n",
      "2     ...            6894            8321           10078           10228   \n",
      "3     ...            3971            5021            6768            7539   \n",
      "4     ...           16181           17583           20997           22220   \n",
      "...   ...             ...             ...             ...             ...   \n",
      "4840  ...               1               6               1               -   \n",
      "4841  ...           15053           16682           15604           15626   \n",
      "4842  ...               -               -               -               1   \n",
      "4843  ...               -               -               -               1   \n",
      "4844  ...             NaN             NaN             NaN             NaN   \n",
      "\n",
      "     Insgesamt 75-80 Insgesamt 80-85 Insgesamt 85-90 Insgesamt 90-95  \\\n",
      "0              44024           46556           32195           15915   \n",
      "1              63000           44175           18932            5360   \n",
      "2              14079           11028            5019            1560   \n",
      "3              13099           14831           10502            5179   \n",
      "4              40700           49930           40154           21920   \n",
      "...              ...             ...             ...             ...   \n",
      "4840               1               1               -               -   \n",
      "4841           13797           16016           10135            3595   \n",
      "4842               -               -               -               -   \n",
      "4843               -               -               -               -   \n",
      "4844             NaN             NaN             NaN             NaN   \n",
      "\n",
      "     Insgesamt 95 und mehr Insgesamt 35-402  \n",
      "0                     3550         313459.0  \n",
      "1                      863         362378.0  \n",
      "2                      269          77759.0  \n",
      "3                     1235          81924.0  \n",
      "4                     5554         283904.0  \n",
      "...                    ...              ...  \n",
      "4840                     -             18.0  \n",
      "4841                  1009         147352.0  \n",
      "4842                     -              1.0  \n",
      "4843                     -              1.0  \n",
      "4844                   NaN              NaN  \n",
      "\n",
      "[4845 rows x 71 columns]>\n"
     ]
    }
   ],
   "source": [
    "print(df.info)"
   ]
  },
  {
   "cell_type": "markdown",
   "metadata": {},
   "source": [
    "Datentypen ausgeben:"
   ]
  },
  {
   "cell_type": "code",
   "execution_count": 240,
   "metadata": {},
   "outputs": [
    {
     "name": "stdout",
     "output_type": "stream",
     "text": [
      "datum                     object\n",
      "Abteilung                 object\n",
      "Krankheiten               object\n",
      "unter 1 Jahr              object\n",
      "1-5 jahre                 object\n",
      "                          ...   \n",
      "Insgesamt 80-85           object\n",
      "Insgesamt 85-90           object\n",
      "Insgesamt 90-95           object\n",
      "Insgesamt 95 und mehr     object\n",
      "Insgesamt 35-402         float64\n",
      "Length: 71, dtype: object\n"
     ]
    }
   ],
   "source": [
    "print(df.dtypes)"
   ]
  },
  {
   "cell_type": "markdown",
   "metadata": {},
   "source": [
    "Schritt 4: Funktionen zur Visualisierung der NULL und Dummy-Werte"
   ]
  },
  {
   "cell_type": "code",
   "execution_count": 241,
   "metadata": {},
   "outputs": [],
   "source": [
    "#df.loc[1:, \"TODO\"] = df.loc[1: ,\"TODO\"].astype(float)\n"
   ]
  },
  {
   "cell_type": "code",
   "execution_count": 242,
   "metadata": {},
   "outputs": [],
   "source": [
    "def df_if_null(df):\n",
    "\n",
    "    plt.figure(figsize=(12,8))\n",
    "    sns.heatmap(df.isnull(), cbar=False, cmap=\"cividis\", yticklabels=False)\n",
    "    \n",
    "    plt.title(\"Heatmap der Null-Werte im DataFrame\", fontsize=16)\n",
    "    plt.xlabel(\"Spalten\", fontsize=12)\n",
    "    plt.ylabel(\"Zeilen\", fontsize=12)\n",
    "    plt.show()\n",
    "        "
   ]
  },
  {
   "cell_type": "code",
   "execution_count": 1,
   "metadata": {},
   "outputs": [],
   "source": [
    "# df_if_null(df)"
   ]
  },
  {
   "cell_type": "code",
   "execution_count": 244,
   "metadata": {},
   "outputs": [],
   "source": [
    "def df_if_dummy(df, dummy_val):\n",
    "\n",
    "    contains_dash = df.astype(str).applymap(lambda x: dummy_val in x)\n",
    "    \n",
    "    # Heatmap erstellen\n",
    "    plt.figure(figsize=(12, 8))\n",
    "    sns.heatmap(contains_dash, cbar=False, cmap=\"cividis\", yticklabels=False)\n",
    "    \n",
    "    # Titel und Achsenbeschriftungen hinzufügen\n",
    "    plt.title(\"Heatmap der Werte mit Dummys im DataFrame\", fontsize=16)\n",
    "    plt.xlabel(\"Spalten\", fontsize=12)\n",
    "    plt.ylabel(\"Zeilen\", fontsize=12)\n",
    "    plt.show()"
   ]
  },
  {
   "cell_type": "code",
   "execution_count": 2,
   "metadata": {},
   "outputs": [],
   "source": [
    "# df_if_dummy(df, \"-\")"
   ]
  },
  {
   "cell_type": "markdown",
   "metadata": {},
   "source": [
    "Schritt 5: Dummy und Null werte manuell oder per Funktion ersetzen"
   ]
  },
  {
   "cell_type": "markdown",
   "metadata": {},
   "source": [
    "Dummys:"
   ]
  },
  {
   "cell_type": "markdown",
   "metadata": {},
   "source": [
    "Speichern einer Spalte, welche nicht verändert werden soll"
   ]
  },
  {
   "cell_type": "code",
   "execution_count": 257,
   "metadata": {},
   "outputs": [],
   "source": [
    "def safe_column(df, name):\n",
    "    df_column = df.pop(name)\n",
    "    return df_column\n",
    "\n",
    "# df_column = safe_column(df, \"TODO\")"
   ]
  },
  {
   "cell_type": "markdown",
   "metadata": {},
   "source": [
    "Dummys ersetzen"
   ]
  },
  {
   "cell_type": "code",
   "execution_count": 252,
   "metadata": {},
   "outputs": [
    {
     "name": "stderr",
     "output_type": "stream",
     "text": [
      "/var/folders/jp/mvl5k93n6r7d_twnt5jwf1780000gn/T/ipykernel_3617/4293984147.py:2: FutureWarning: Downcasting behavior in `replace` is deprecated and will be removed in a future version. To retain the old behavior, explicitly call `result.infer_objects(copy=False)`. To opt-in to the future behavior, set `pd.set_option('future.no_silent_downcasting', True)`\n",
      "  df = df.replace(dummy_val, new_val)\n"
     ]
    }
   ],
   "source": [
    "\n",
    "def replace_dummies(df, dummy_val, new_val):\n",
    "    df = df.replace(dummy_val, new_val)\n",
    "    return df\n",
    "\n",
    "df = replace_dummies(df, \"-\", 0)\n"
   ]
  },
  {
   "cell_type": "markdown",
   "metadata": {},
   "source": [
    "Spalte wieder einfügen"
   ]
  },
  {
   "cell_type": "code",
   "execution_count": 258,
   "metadata": {},
   "outputs": [],
   "source": [
    "def insert_column(df, df_column, pos, name):\n",
    "    df.insert(pos, name, df_column)\n",
    "    return df\n",
    "\n",
    "# df = insert_column(df, df_column, 3, \"TODO\")"
   ]
  },
  {
   "cell_type": "code",
   "execution_count": 3,
   "metadata": {},
   "outputs": [],
   "source": [
    "# df_if_dummy(df,\"-\")"
   ]
  }
 ],
 "metadata": {
  "kernelspec": {
   "display_name": "Python 3",
   "language": "python",
   "name": "python3"
  },
  "language_info": {
   "codemirror_mode": {
    "name": "ipython",
    "version": 3
   },
   "file_extension": ".py",
   "mimetype": "text/x-python",
   "name": "python",
   "nbconvert_exporter": "python",
   "pygments_lexer": "ipython3",
   "version": "3.12.4"
  }
 },
 "nbformat": 4,
 "nbformat_minor": 2
}
