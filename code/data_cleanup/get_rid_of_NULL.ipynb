{
 "cells": [
  {
   "cell_type": "markdown",
   "metadata": {},
   "source": [
    "Diese Datei dient zur Datenbereinigung von NULL Werten oder Placeholder in den Excel-Dateien"
   ]
  },
  {
   "cell_type": "markdown",
   "metadata": {},
   "source": [
    "Schritt 1: Die gebrauchten Abhängigkeiten laden"
   ]
  },
  {
   "cell_type": "code",
   "execution_count": 43,
   "metadata": {},
   "outputs": [],
   "source": [
    "import numpy as np\n",
    "import pandas as pd\n",
    "import matplotlib.pyplot as plt\n",
    "from tkinter.filedialog import askopenfilename\n",
    "from tkinter.messagebox import Message\n",
    "import seaborn as sns"
   ]
  },
  {
   "cell_type": "markdown",
   "metadata": {},
   "source": [
    "Schritt 2: Die Dateien laden"
   ]
  },
  {
   "cell_type": "code",
   "execution_count": 44,
   "metadata": {},
   "outputs": [
    {
     "name": "stderr",
     "output_type": "stream",
     "text": [
      "2024-12-11 15:52:27.785 Python[7642:113798] +[IMKInputSession subclass]: chose IMKInputSession_Modern\n"
     ]
    }
   ],
   "source": [
    "df = pd.read_excel(askopenfilename())"
   ]
  },
  {
   "cell_type": "markdown",
   "metadata": {},
   "source": [
    "Schritt 3: Informationen über die geladene Datei anzeigen: "
   ]
  },
  {
   "cell_type": "code",
   "execution_count": 7,
   "metadata": {},
   "outputs": [],
   "source": [
    "# print(df.head(10))"
   ]
  },
  {
   "cell_type": "code",
   "execution_count": 8,
   "metadata": {},
   "outputs": [],
   "source": [
    "# print(df.info)"
   ]
  },
  {
   "cell_type": "markdown",
   "metadata": {},
   "source": [
    "Datentypen ausgeben:"
   ]
  },
  {
   "cell_type": "code",
   "execution_count": 9,
   "metadata": {},
   "outputs": [],
   "source": [
    "# print(df.dtypes)"
   ]
  },
  {
   "cell_type": "markdown",
   "metadata": {},
   "source": [
    "Schritt 4: Funktionen zur Visualisierung der NULL und Dummy-Werte"
   ]
  },
  {
   "cell_type": "code",
   "execution_count": 48,
   "metadata": {},
   "outputs": [],
   "source": [
    "#df.loc[1:, \"TODO\"] = df.loc[1: ,\"TODO\"].astype(float)\n"
   ]
  },
  {
   "cell_type": "code",
   "execution_count": 49,
   "metadata": {},
   "outputs": [],
   "source": [
    "def df_if_null(df):\n",
    "\n",
    "    plt.figure(figsize=(12,8))\n",
    "    sns.heatmap(df.isnull(), cbar=False, cmap=\"cividis\", yticklabels=False)\n",
    "    \n",
    "    plt.title(\"Heatmap der Null-Werte im DataFrame\", fontsize=16)\n",
    "    plt.xlabel(\"Spalten\", fontsize=12)\n",
    "    plt.ylabel(\"Zeilen\", fontsize=12)\n",
    "    plt.show()\n",
    "        "
   ]
  },
  {
   "cell_type": "code",
   "execution_count": 1,
   "metadata": {},
   "outputs": [],
   "source": [
    "# df_if_null(df)"
   ]
  },
  {
   "cell_type": "code",
   "execution_count": 51,
   "metadata": {},
   "outputs": [],
   "source": [
    "def df_if_dummy(df, dummy_val):\n",
    "\n",
    "    contains_dash = df.astype(str).applymap(lambda x: dummy_val in x)\n",
    "    \n",
    "    # Heatmap erstellen\n",
    "    plt.figure(figsize=(12, 8))\n",
    "    sns.heatmap(contains_dash, cbar=False, cmap=\"cividis\", yticklabels=False)\n",
    "    \n",
    "    # Titel und Achsenbeschriftungen hinzufügen\n",
    "    plt.title(\"Heatmap der Werte mit Dummys im DataFrame\", fontsize=16)\n",
    "    plt.xlabel(\"Spalten\", fontsize=12)\n",
    "    plt.ylabel(\"Zeilen\", fontsize=12)\n",
    "    plt.show()"
   ]
  },
  {
   "cell_type": "code",
   "execution_count": null,
   "metadata": {},
   "outputs": [],
   "source": [
    "# df_if_dummy(df, \"TODO\")"
   ]
  },
  {
   "cell_type": "markdown",
   "metadata": {},
   "source": [
    "Schritt 5: Dummy und Null werte manuell oder per Funktion ersetzen"
   ]
  },
  {
   "cell_type": "markdown",
   "metadata": {},
   "source": [
    "Dummys:"
   ]
  },
  {
   "cell_type": "markdown",
   "metadata": {},
   "source": [
    "Speichern einer Spalte, welche nicht verändert werden soll"
   ]
  },
  {
   "cell_type": "code",
   "execution_count": 53,
   "metadata": {},
   "outputs": [],
   "source": [
    "def safe_column(df, name):\n",
    "    df_column = df.pop(name)\n",
    "    return df_column\n",
    "\n",
    "# df_column = safe_column(df, \"TODO\")"
   ]
  },
  {
   "cell_type": "markdown",
   "metadata": {},
   "source": [
    "Dummys ersetzen"
   ]
  },
  {
   "cell_type": "code",
   "execution_count": null,
   "metadata": {},
   "outputs": [
    {
     "name": "stderr",
     "output_type": "stream",
     "text": [
      "/var/folders/jp/mvl5k93n6r7d_twnt5jwf1780000gn/T/ipykernel_7642/4293984147.py:2: FutureWarning: Downcasting behavior in `replace` is deprecated and will be removed in a future version. To retain the old behavior, explicitly call `result.infer_objects(copy=False)`. To opt-in to the future behavior, set `pd.set_option('future.no_silent_downcasting', True)`\n",
      "  df = df.replace(dummy_val, new_val)\n"
     ]
    }
   ],
   "source": [
    "\n",
    "def replace_dummies(df, dummy_val, new_val):\n",
    "    df = df.replace(dummy_val, new_val)\n",
    "    return df\n",
    "\n",
    "# df = replace_dummies(df, \"TODO\", 0)\n"
   ]
  },
  {
   "cell_type": "markdown",
   "metadata": {},
   "source": [
    "Spalte wieder einfügen"
   ]
  },
  {
   "cell_type": "code",
   "execution_count": 55,
   "metadata": {},
   "outputs": [],
   "source": [
    "def insert_column(df, df_column, pos, name):\n",
    "    df.insert(pos, name, df_column)\n",
    "    return df\n",
    "\n",
    "# df = insert_column(df, df_column, 3, \"TODO\")"
   ]
  },
  {
   "cell_type": "code",
   "execution_count": 3,
   "metadata": {},
   "outputs": [],
   "source": [
    "# df_if_dummy(df,\"-\")"
   ]
  },
  {
   "cell_type": "markdown",
   "metadata": {},
   "source": [
    "Null-Werte:"
   ]
  },
  {
   "cell_type": "code",
   "execution_count": 4,
   "metadata": {},
   "outputs": [],
   "source": [
    "# df_if_null(df)"
   ]
  },
  {
   "cell_type": "markdown",
   "metadata": {},
   "source": [
    "Spalte rausnehmen"
   ]
  },
  {
   "cell_type": "code",
   "execution_count": null,
   "metadata": {},
   "outputs": [],
   "source": [
    "def drop_axis(df, name):\n",
    "    df.drop(name, axis=1, inplace=True)\n",
    "    return df\n",
    "\n",
    "# df = drop_axis(df, \"TODO\")"
   ]
  },
  {
   "cell_type": "code",
   "execution_count": 5,
   "metadata": {},
   "outputs": [],
   "source": [
    "# df_if_null(df)"
   ]
  },
  {
   "cell_type": "markdown",
   "metadata": {},
   "source": [
    "Spalte mit Median der selben Spalte auffüllen"
   ]
  },
  {
   "cell_type": "code",
   "execution_count": null,
   "metadata": {},
   "outputs": [
    {
     "name": "stdout",
     "output_type": "stream",
     "text": [
      "Der Median für den spezifizierten Bereich ist: 14.0\n"
     ]
    },
    {
     "name": "stderr",
     "output_type": "stream",
     "text": [
      "/var/folders/jp/mvl5k93n6r7d_twnt5jwf1780000gn/T/ipykernel_7642/1981674296.py:15: FutureWarning: A value is trying to be set on a copy of a DataFrame or Series through chained assignment using an inplace method.\n",
      "The behavior will change in pandas 3.0. This inplace method will never work because the intermediate object on which we are setting values always behaves as a copy.\n",
      "\n",
      "For example, when doing 'df[col].method(value, inplace=True)', try using 'df.method({col: value}, inplace=True)' or df[col] = df[col].method(value) instead, to perform the operation inplace on the original object.\n",
      "\n",
      "\n",
      "  df[name].fillna(median_spec, inplace=True)\n"
     ]
    }
   ],
   "source": [
    "def fill_axis(df, name, zeile_von=0, zeile_bis=0):\n",
    "    if zeile_von == 0 and zeile_bis == 0:\n",
    "        median = df[name].median()\n",
    "        df[name].fillna(median, inplace=True)\n",
    "\n",
    "    else:\n",
    "        zeile_von -= 1\n",
    "        zeile_bis -= 1\n",
    "\n",
    "        # Berechne den Median nur für numerische Werte\n",
    "        median_spec = df.loc[zeile_von:zeile_bis, name].median()\n",
    "        print(f\"Der Median für den spezifizierten Bereich ist: {median_spec}\")\n",
    "        \n",
    "        # Fülle NaN-Werte im angegebenen Bereich mit dem berechneten Median\n",
    "        df[name].fillna(median_spec, inplace=True)\n",
    "\n",
    "    return df\n",
    "    \n",
    "# df = fill_axis(df, \"TODO\", 1, 1621)"
   ]
  },
  {
   "cell_type": "code",
   "execution_count": 6,
   "metadata": {},
   "outputs": [],
   "source": [
    "# df_if_null(df)"
   ]
  }
 ],
 "metadata": {
  "kernelspec": {
   "display_name": "Python 3",
   "language": "python",
   "name": "python3"
  },
  "language_info": {
   "codemirror_mode": {
    "name": "ipython",
    "version": 3
   },
   "file_extension": ".py",
   "mimetype": "text/x-python",
   "name": "python",
   "nbconvert_exporter": "python",
   "pygments_lexer": "ipython3",
   "version": "3.12.4"
  }
 },
 "nbformat": 4,
 "nbformat_minor": 2
}
